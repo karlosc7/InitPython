{
  "nbformat": 4,
  "nbformat_minor": 0,
  "metadata": {
    "colab": {
      "name": "Datos.ipynb",
      "provenance": [],
      "authorship_tag": "ABX9TyNksk7qbbXOfXmZNw1EBH9K",
      "include_colab_link": true
    },
    "kernelspec": {
      "name": "python3",
      "display_name": "Python 3"
    },
    "language_info": {
      "name": "python"
    }
  },
  "cells": [
    {
      "cell_type": "markdown",
      "metadata": {
        "id": "view-in-github",
        "colab_type": "text"
      },
      "source": [
        "<a href=\"https://colab.research.google.com/github/karlosc7/InitPython/blob/master/Datos.ipynb\" target=\"_parent\"><img src=\"https://colab.research.google.com/assets/colab-badge.svg\" alt=\"Open In Colab\"/></a>"
      ]
    },
    {
      "cell_type": "code",
      "execution_count": 1,
      "metadata": {
        "colab": {
          "base_uri": "https://localhost:8080/"
        },
        "id": "rjsjkg_20gBZ",
        "outputId": "634400b9-991d-4af1-cff8-aa5a78cf041c"
      },
      "outputs": [
        {
          "output_type": "stream",
          "name": "stdout",
          "text": [
            "\n",
            "Palindrome checker\n",
            "\n",
            "Please enter a word, phrase, or a sentence \n",
            "to check if it is a palindrome: ana\n",
            "The text you have entered is a palindrome!\n"
          ]
        }
      ],
      "source": [
        "def convertInputString():\n",
        "    rawInput = input(\"\\nPlease enter a word, phrase, or a sentence \\nto check if it is a palindrome: \") \n",
        "    rawString = rawInput.lower() \n",
        "    rawList = list(rawString) \n",
        "    return rawList\n",
        "\n",
        "def stripAnalphabetics(dirtyList): \n",
        "    analphabeticList = [\" \", \"-\", \".\", \",\", \":\", \";\", \"!\", \"?\", \"'\", \"\\\"\"] \n",
        "    for character in analphabeticList: \n",
        "        if character in dirtyList: \n",
        "            dirtyList.remove(character) \n",
        "            return stripAnalphabetics(dirtyList)\n",
        "    return dirtyList \n",
        "\n",
        "def runPalindromeCheck(straightList):\n",
        "    reversedList = straightList[::-1] \n",
        "    if reversedList == straightList: \n",
        "        return \"The text you have entered is a palindrome!\" \n",
        "    else: \n",
        "        return \"The text you have entered is not a palindrome.\" \n",
        "\n",
        "def main(): \n",
        "    print(\"\\nPalindrome checker\") \n",
        "    originalList = convertInputString()  \n",
        "    originalList = stripAnalphabetics(originalList) \n",
        "    palindromeCheck = runPalindromeCheck(originalList)\n",
        "    print(palindromeCheck)\n",
        "\n",
        "main() "
      ]
    }
  ]
}